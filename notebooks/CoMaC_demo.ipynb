{
 "cells": [
  {
   "cell_type": "markdown",
   "id": "dd05759b",
   "metadata": {},
   "source": [
    "<hr style=\"border:2px solid RosyBrown\"> </hr>\n",
    "<hr style=\"border:1px solid Wheat\"> </hr>\n",
    "\n",
    "# Constrained Markov Clustering\n",
    "\n",
    "<hr style=\"border:1px solid Wheat\"> </hr>\n",
    "<hr style=\"border:2px solid RosyBrown\"> </hr>"
   ]
  },
  {
   "cell_type": "markdown",
   "id": "cacd5a2a",
   "metadata": {},
   "source": [
    "Load all packages and modules"
   ]
  },
  {
   "cell_type": "code",
   "execution_count": 49,
   "id": "fdb2bae0-4c9a-488a-940b-cedfa933c2fd",
   "metadata": {},
   "outputs": [
    {
     "name": "stdout",
     "output_type": "stream",
     "text": [
      "The autoreload extension is already loaded. To reload it, use:\n",
      "  %reload_ext autoreload\n"
     ]
    }
   ],
   "source": [
    "%load_ext autoreload\n",
    "%autoreload 2\n",
    "\n",
    "#------------------------------------------------------------------------------#\n",
    "# Import modules\n",
    "from sklearn.metrics.cluster import normalized_mutual_info_score\n",
    "import sys\n",
    "import os\n",
    "import numpy as np\n",
    "import pandas as pd\n",
    "#------------------------------------------------------------------------------#\n",
    "\n",
    "#------------------------------------------------------------------------------#\n",
    "# Import custom classes and functions\n",
    "module_path = os.path.abspath(os.path.join('../src'))\n",
    "if module_path not in sys.path:\n",
    "    sys.path.insert(0, module_path)\n",
    "    \n",
    "from models.data_gen import dataGen\n",
    "from models.CoMaC import CoMaC\n",
    "\n",
    "from utils.callback import save_results\n",
    "from utils.helperFunc import partition_to_labels, generate_int_labels\n",
    "from utils.plotting import show_clustering, show_transition_prob\n",
    "from utils.dataloader import load_dataset\n",
    "\n",
    "#------------------------------------------------------------------------------#"
   ]
  },
  {
   "cell_type": "code",
   "execution_count": 52,
   "id": "b4157a54-9e86-45dc-ac25-38602a4d4486",
   "metadata": {},
   "outputs": [
    {
     "name": "stdout",
     "output_type": "stream",
     "text": [
      "IRIS dataset with 4 features, 150 samples and 3 classes.\n"
     ]
    }
   ],
   "source": [
    "#------------------------------------------------------------------------------#\n",
    "# Select from different datasets\n",
    "#------------------------------------------------------------------------------#\n",
    "\n",
    "X, labels_true = load_dataset('IRIS')\n",
    "\n",
    "labels_true = generate_int_labels(labels_true)\n",
    "M = len(np.unique(labels_true))\n",
    "\n",
    "print(f'{dataset_str} dataset with {X.shape[1]} features, {X.shape[0]} samples and {M} classes.')\n"
   ]
  },
  {
   "cell_type": "code",
   "execution_count": 85,
   "id": "f96c5761-2c88-40b1-bc15-f9ea81850b91",
   "metadata": {},
   "outputs": [],
   "source": [
    "#------------------------------------------------------------------------------#\n",
    "# Parameters\n",
    "\n",
    "knns=20\n",
    "restarts=5\n",
    "percentage=0.2\n",
    "final_beta=0.0\n",
    "#------------------------------------------------------------------------------#"
   ]
  },
  {
   "cell_type": "code",
   "execution_count": 86,
   "id": "d9318859-09b8-4206-92cd-95dbafcaf442",
   "metadata": {},
   "outputs": [
    {
     "name": "stdout",
     "output_type": "stream",
     "text": [
      "Number of additional constraints due to constraint propagation:  4\n",
      "Total number of constraints:  30\n"
     ]
    }
   ],
   "source": [
    "#------------------------------------------------------------------------------#\n",
    "# Initialize and generate constraints\n",
    "\n",
    "# create an instance of the comac class\n",
    "comac = CoMaC(M=M, knns=knns, restarts=restarts)\n",
    "\n",
    "### exhaustive constraints \n",
    "# retrieved from partition level side information\n",
    "# |X_sampled|/|X| = percentage\n",
    "# generate M (must link) and N (cannot link) from X_sampled\n",
    "\n",
    "# comac.constraints(X, labels_true, percentage=percentage,\n",
    "#                   wrong_percentage=0, ClassLabels=2)\n",
    "\n",
    "### non-exhaustive constraints\n",
    "# (|M|+|N|)/|X| = percentage\n",
    "\n",
    "comac.random_constraints(X, labels_true, percentage, flag_connected=True)\n",
    "print('Total number of constraints: ', len(comac.M_must)+len(comac.M_cannot))\n",
    "#------------------------------------------------------------------------------#"
   ]
  },
  {
   "cell_type": "code",
   "execution_count": 71,
   "id": "8c0ac367-301d-40cf-9c40-d85d034b0403",
   "metadata": {},
   "outputs": [
    {
     "name": "stdout",
     "output_type": "stream",
     "text": [
      "~~~~~~~~~~~~~~~~~~~~~~~~~~~~~~~~~~~~~~~~~~~~~~~~~~~~~~~~~~~~~~~~~~~~~~~~~~~~~~~~\n",
      " Sequential Algorithm: beta = 0.5\n",
      "*************************Clustering Finished!*************************\n"
     ]
    }
   ],
   "source": [
    "#------------------------------------------------------------------------------#\n",
    "# Sequential algorithm\n",
    "final_beta = 0.5 \n",
    "print('~'*80 + f'\\n Sequential Algorithm: beta = {final_beta}')\n",
    "cost_seq, V_seq = comac.cluster_seq(X, beta=final_beta)\n",
    "\n",
    "#------------------------------------------------------------------------------#"
   ]
  },
  {
   "cell_type": "code",
   "execution_count": 72,
   "id": "baad981b-22f9-41b9-a525-def8d826530b",
   "metadata": {},
   "outputs": [
    {
     "name": "stdout",
     "output_type": "stream",
     "text": [
      "Sequential NMI = 0.9701911554558436 (beta=0.5)\n"
     ]
    }
   ],
   "source": [
    "#------------------------------------------------------------------------------#\n",
    "labels_seq = partition_to_labels(V_seq) \n",
    "NMI_seq = normalized_mutual_info_score(labels_true, labels_seq)\n",
    "\n",
    "print(f'Sequential NMI = {NMI_seq} (beta={final_beta})')\n",
    "#------------------------------------------------------------------------------#"
   ]
  },
  {
   "cell_type": "code",
   "execution_count": 73,
   "id": "87b0c406-3332-44b2-b34f-42b0d1b49dd6",
   "metadata": {},
   "outputs": [
    {
     "name": "stdout",
     "output_type": "stream",
     "text": [
      "~~~~~~~~~~~~~~~~~~~~~~~~~~~~~~~~~~~~~~~~~~~~~~~~~~~~~~~~~~~~~~~~~~~~~~~~~~~~~~~~\n",
      " Annealing Algorithm: final beta = 0.5\n",
      "Starting with beta = 1\n",
      "*************************Clustering Finished!*************************\n",
      "Starting with beta = 0.5\n",
      "*************************Clustering Finished!*************************\n"
     ]
    }
   ],
   "source": [
    "#------------------------------------------------------------------------------#\n",
    "# Annealing algorithm\n",
    "\n",
    "print('~'*80 + f'\\n Annealing Algorithm: final beta = {final_beta}')\n",
    "cost_ann, V_ann, beta_vec = comac.cluster_ann(X, final_beta=final_beta, step_size=-0.5)\n",
    "\n",
    "#------------------------------------------------------------------------------#"
   ]
  },
  {
   "cell_type": "code",
   "execution_count": 74,
   "id": "f298469f-7248-4601-b03f-ebeb0b41c321",
   "metadata": {},
   "outputs": [
    {
     "name": "stdout",
     "output_type": "stream",
     "text": [
      "NMI = 1.0 (beta=1.0) \n",
      "\n",
      "NMI = 0.9701911554558436 (beta=0.5) \n",
      "\n"
     ]
    }
   ],
   "source": [
    "#------------------------------------------------------------------------------#\n",
    "\n",
    "labels_ann = []\n",
    "NMI_ann = np.zeros_like(beta_vec)\n",
    "\n",
    "for idx, beta in enumerate(beta_vec):\n",
    "    labels_ann.append( partition_to_labels(V_ann[idx, :, :]) )\n",
    "    NMI_ann[idx] = normalized_mutual_info_score(labels_true,\n",
    "                                                labels_ann[-1])\n",
    "    print(f'NMI = {NMI_ann[idx]} (beta={beta}) \\n')\n",
    "    \n",
    "#------------------------------------------------------------------------------#"
   ]
  },
  {
   "cell_type": "markdown",
   "id": "d80fb004-3bf7-4014-8e8d-09ab681e48be",
   "metadata": {},
   "source": [
    "<hr style=\"border:2px solid DarkKhaki\"> </hr>\n"
   ]
  }
 ],
 "metadata": {
  "kernelspec": {
   "display_name": "Python 3 (ipykernel)",
   "language": "python",
   "name": "python3"
  },
  "language_info": {
   "codemirror_mode": {
    "name": "ipython",
    "version": 3
   },
   "file_extension": ".py",
   "mimetype": "text/x-python",
   "name": "python",
   "nbconvert_exporter": "python",
   "pygments_lexer": "ipython3",
   "version": "3.8.8"
  }
 },
 "nbformat": 4,
 "nbformat_minor": 5
}
