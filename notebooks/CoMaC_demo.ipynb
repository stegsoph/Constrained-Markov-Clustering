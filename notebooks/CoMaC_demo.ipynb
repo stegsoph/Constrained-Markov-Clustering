{
 "cells": [
  {
   "cell_type": "markdown",
   "id": "dd05759b",
   "metadata": {},
   "source": [
    "<hr style=\"border:2px solid RosyBrown\"> </hr>\n",
    "<hr style=\"border:1px solid Wheat\"> </hr>\n",
    "\n",
    "# Constrained Markov Clustering\n",
    "\n",
    "<hr style=\"border:1px solid Wheat\"> </hr>\n",
    "<hr style=\"border:2px solid RosyBrown\"> </hr>"
   ]
  },
  {
   "cell_type": "markdown",
   "id": "cacd5a2a",
   "metadata": {},
   "source": [
    "Load all packages and modules"
   ]
  },
  {
   "cell_type": "code",
   "execution_count": 20,
   "id": "fdb2bae0-4c9a-488a-940b-cedfa933c2fd",
   "metadata": {},
   "outputs": [
    {
     "name": "stdout",
     "output_type": "stream",
     "text": [
      "The autoreload extension is already loaded. To reload it, use:\n",
      "  %reload_ext autoreload\n"
     ]
    }
   ],
   "source": [
    "%load_ext autoreload\n",
    "%autoreload 2\n",
    "\n",
    "#------------------------------------------------------------------------------#\n",
    "# Import modules\n",
    "from sklearn import datasets, decomposition\n",
    "from sklearn.metrics.cluster import normalized_mutual_info_score\n",
    "import sys\n",
    "import os\n",
    "import numpy as np\n",
    "import pandas as pd\n",
    "#------------------------------------------------------------------------------#\n",
    "\n",
    "#------------------------------------------------------------------------------#\n",
    "# Import custom classes and functions\n",
    "module_path = os.path.abspath(os.path.join('../src'))\n",
    "if module_path not in sys.path:\n",
    "    sys.path.insert(0, module_path)\n",
    "    \n",
    "from models.data_gen import dataGen\n",
    "from models.CoMaC import CoMaC\n",
    "\n",
    "from utils.callback import save_results\n",
    "from utils.helperFunc import partition_to_labels, generate_int_labels\n",
    "from utils.plotting import show_clustering, show_transition_prob\n",
    "#------------------------------------------------------------------------------#"
   ]
  },
  {
   "cell_type": "code",
   "execution_count": 49,
   "id": "b4157a54-9e86-45dc-ac25-38602a4d4486",
   "metadata": {},
   "outputs": [
    {
     "name": "stdout",
     "output_type": "stream",
     "text": [
      "USER dataset with 5 features, 403 samples and 4 classes.\n"
     ]
    }
   ],
   "source": [
    "#------------------------------------------------------------------------------#\n",
    "# Select from different datasets\n",
    "#------------------------------------------------------------------------------#\n",
    "\n",
    "dataset_str = 'USER'\n",
    "\n",
    "if dataset_str == 'IRIS':\n",
    "    iris = datasets.load_iris()\n",
    "    X = iris.data[:, :]\n",
    "    labels_true = iris.target\n",
    "\n",
    "elif dataset_str == 'WINE':\n",
    "    wine = datasets.load_wine()\n",
    "    X = wine.data[:, :]\n",
    "    labels_true = wine.target\n",
    "\n",
    "elif dataset_str == 'WINE_SCALED':\n",
    "    wine_df = pd.read_csv(\"../data/rand_samples_links/wine-scaled.in\",\n",
    "                          header=None, delimiter=\",\")\n",
    "    X = wine_df.loc[:, 0:12].to_numpy()\n",
    "    labels_true = wine_df.loc[:,13].to_numpy()\n",
    "\n",
    "elif dataset_str == 'GLASS':\n",
    "    glass_df = pd.read_csv(\"../data/data-sets/glass.csv\", header=None)\n",
    "    X = glass_df.loc[:, 0:8].to_numpy()\n",
    "    labels_true = glass_df.loc[:, 9].to_numpy()\n",
    "\n",
    "elif dataset_str == 'ECOLI':\n",
    "    ecoli_df = pd.read_csv(\"../data/data-sets/ecoli.csv\", header=None)\n",
    "    X = ecoli_df.loc[:, 0:6].to_numpy()\n",
    "    pca = decomposition.PCA(n_components=5)\n",
    "    pca.fit(X)\n",
    "    X = pca.transform(X)\n",
    "    labels_true = ecoli_df.loc[:, 7].to_numpy()\n",
    "    X = X[:327, :]\n",
    "    labels_true = labels_true[:327]\n",
    "\n",
    "elif dataset_str == 'VERTEBRAL':\n",
    "    vertebral_df = pd.read_csv(\"../data/data-sets/vertebral.data\",\n",
    "                               skiprows=[0], header=None, delimiter=\" \")\n",
    "    X = vertebral_df.loc[:, 0:5].to_numpy()\n",
    "    labels_df = pd.read_csv(\"../data/reference-labelling/vertebral.ref\",\n",
    "                            skiprows=[0], header=None, delimiter=\" \")\n",
    "    labels_true = labels_df.to_numpy()\n",
    "\n",
    "elif dataset_str == 'SEGMENTATION':\n",
    "    segmentation_df = pd.read_csv(\"../data/data-sets/segmentation.data\",\n",
    "                                  skiprows=[0], header=None, delimiter=\" \")\n",
    "    X = segmentation_df.loc[:, 0:4].to_numpy()\n",
    "    labels_df = pd.read_csv(\"../data/reference-labelling/segmentation.ref\",\n",
    "                            skiprows=[0], header=None, delimiter=\" \")\n",
    "    labels_true = labels_df.to_numpy()\n",
    "\n",
    "elif dataset_str == 'USER':\n",
    "    user_df = pd.read_csv(\"../data/data-sets/user.data\",\n",
    "                          skiprows=[0], header=None, delimiter=\" \")\n",
    "    X = user_df.loc[:, 0:4].to_numpy()\n",
    "    labels_df = pd.read_csv(\"../data/reference-labelling/user.ref\",\n",
    "                            skiprows=[0], header=None, delimiter=\" \")\n",
    "    labels_true = labels_df.to_numpy()\n",
    "\n",
    "else:\n",
    "    dataGenerator = dataGen()\n",
    "    P, V_true, X = dataGenerator.generateCircles()\n",
    "    labels_true = partition_to_labels(V_true)\n",
    "\n",
    "labels_true = generate_int_labels(labels_true)\n",
    "M = len(np.unique(labels_true))\n",
    "\n",
    "print(f'{dataset_str} dataset with {X.shape[1]} features, {X.shape[0]} samples and {M} classes.')\n"
   ]
  },
  {
   "cell_type": "code",
   "execution_count": 50,
   "id": "f96c5761-2c88-40b1-bc15-f9ea81850b91",
   "metadata": {},
   "outputs": [],
   "source": [
    "#------------------------------------------------------------------------------#\n",
    "# Parameters\n",
    "\n",
    "knns=20\n",
    "restarts=5\n",
    "percentage=0.2\n",
    "final_beta=0.0\n",
    "\n",
    "#------------------------------------------------------------------------------#"
   ]
  },
  {
   "cell_type": "code",
   "execution_count": 51,
   "id": "d9318859-09b8-4206-92cd-95dbafcaf442",
   "metadata": {},
   "outputs": [],
   "source": [
    "#------------------------------------------------------------------------------#\n",
    "# Initialize and generate constraints\n",
    "\n",
    "comac = CoMaC(M=M, knns=knns, restarts=restarts)\n",
    "comac.constraints(X, labels_true, percentage=percentage,\n",
    "                  wrong_percentage=0, ClassLabels=2)\n",
    "#------------------------------------------------------------------------------#"
   ]
  },
  {
   "cell_type": "code",
   "execution_count": 52,
   "id": "8c0ac367-301d-40cf-9c40-d85d034b0403",
   "metadata": {},
   "outputs": [
    {
     "name": "stdout",
     "output_type": "stream",
     "text": [
      "~~~~~~~~~~~~~~~~~~~~~~~~~~~~~~~~~~~~~~~~~~~~~~~~~~~~~~~~~~~~~~~~~~~~~~~~~~~~~~~~\n",
      " Sequential Algorithm: beta = 0.5\n",
      "*************************Clustering Finished!*************************\n"
     ]
    }
   ],
   "source": [
    "#------------------------------------------------------------------------------#\n",
    "# Sequential algorithm\n",
    "final_beta = 0.5 \n",
    "print('~'*80 + f'\\n Sequential Algorithm: beta = {final_beta}')\n",
    "cost_seq, V_seq = comac.cluster_seq(X, beta=final_beta)\n",
    "\n",
    "#------------------------------------------------------------------------------#"
   ]
  },
  {
   "cell_type": "code",
   "execution_count": 53,
   "id": "baad981b-22f9-41b9-a525-def8d826530b",
   "metadata": {},
   "outputs": [
    {
     "name": "stdout",
     "output_type": "stream",
     "text": [
      "Sequential NMI = 0.7484558685537503 (beta=0.5)\n"
     ]
    }
   ],
   "source": [
    "#------------------------------------------------------------------------------#\n",
    "labels_seq = partition_to_labels(V_seq) \n",
    "NMI_seq = normalized_mutual_info_score(labels_true, labels_seq)\n",
    "\n",
    "print(f'Sequential NMI = {NMI_seq} (beta={final_beta})')\n",
    "#------------------------------------------------------------------------------#"
   ]
  },
  {
   "cell_type": "code",
   "execution_count": 18,
   "id": "87b0c406-3332-44b2-b34f-42b0d1b49dd6",
   "metadata": {},
   "outputs": [
    {
     "name": "stdout",
     "output_type": "stream",
     "text": [
      "~~~~~~~~~~~~~~~~~~~~~~~~~~~~~~~~~~~~~~~~~~~~~~~~~~~~~~~~~~~~~~~~~~~~~~~~~~~~~~~~\n",
      " Annealing Algorithm: final beta = 0.5\n",
      "Starting with beta = 1\n",
      "*************************Clustering Finished!*************************\n",
      "Starting with beta = 0.5\n",
      "*************************Clustering Finished!*************************\n"
     ]
    }
   ],
   "source": [
    "#------------------------------------------------------------------------------#\n",
    "# Annealing algorithm\n",
    "\n",
    "print('~'*80 + f'\\n Annealing Algorithm: final beta = {final_beta}')\n",
    "cost_ann, V_ann, beta_vec = comac.cluster_ann(X, final_beta=final_beta, step_size=-0.5)\n",
    "\n",
    "#------------------------------------------------------------------------------#"
   ]
  },
  {
   "cell_type": "code",
   "execution_count": 19,
   "id": "f298469f-7248-4601-b03f-ebeb0b41c321",
   "metadata": {},
   "outputs": [
    {
     "name": "stdout",
     "output_type": "stream",
     "text": [
      "NMI = 0.9305506621576433 (beta=1.0) \n",
      "\n",
      "NMI = 0.94878832043511 (beta=0.5) \n",
      "\n"
     ]
    }
   ],
   "source": [
    "#------------------------------------------------------------------------------#\n",
    "\n",
    "labels_ann = []\n",
    "NMI_ann = np.zeros_like(beta_vec)\n",
    "\n",
    "for idx, beta in enumerate(beta_vec):\n",
    "    labels_ann.append( partition_to_labels(V_ann[idx, :, :]) )\n",
    "    NMI_ann[idx] = normalized_mutual_info_score(labels_true,\n",
    "                                                labels_ann[-1])\n",
    "    print(f'NMI = {NMI_ann[idx]} (beta={beta}) \\n')\n",
    "    \n",
    "#------------------------------------------------------------------------------#"
   ]
  },
  {
   "cell_type": "markdown",
   "id": "d80fb004-3bf7-4014-8e8d-09ab681e48be",
   "metadata": {},
   "source": [
    "<hr style=\"border:2px solid DarkKhaki\"> </hr>\n"
   ]
  }
 ],
 "metadata": {
  "kernelspec": {
   "display_name": "Python 3 (ipykernel)",
   "language": "python",
   "name": "python3"
  },
  "language_info": {
   "codemirror_mode": {
    "name": "ipython",
    "version": 3
   },
   "file_extension": ".py",
   "mimetype": "text/x-python",
   "name": "python",
   "nbconvert_exporter": "python",
   "pygments_lexer": "ipython3",
   "version": "3.8.8"
  }
 },
 "nbformat": 4,
 "nbformat_minor": 5
}
